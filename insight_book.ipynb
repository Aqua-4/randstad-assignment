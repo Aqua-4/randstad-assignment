{
 "metadata": {
  "language_info": {
   "codemirror_mode": {
    "name": "ipython",
    "version": 3
   },
   "file_extension": ".py",
   "mimetype": "text/x-python",
   "name": "python",
   "nbconvert_exporter": "python",
   "pygments_lexer": "ipython3",
   "version": "3.7.1-final"
  },
  "orig_nbformat": 2,
  "kernelspec": {
   "name": "python37164bitbaseconda99a44c658930496fa2ad7e61c5f8baf0",
   "display_name": "Python 3.7.1 64-bit ('base': conda)",
   "language": "python"
  }
 },
 "nbformat": 4,
 "nbformat_minor": 2,
 "cells": [
  {
   "cell_type": "code",
   "execution_count": 5,
   "metadata": {},
   "outputs": [],
   "source": [
    "import pandas as pd"
   ]
  },
  {
   "cell_type": "code",
   "execution_count": 4,
   "metadata": {},
   "outputs": [],
   "source": [
    "kg_df = pd.read_csv(\"archive/country_wise_latest.csv\")\n",
    "kg_df['Country'] =kg_df['Country/Region']  \n",
    "who_df = pd.read_csv(\"archive/who.csv\")\n",
    "\n",
    "merge_df = kg_df.merge(who_df,on=\"Country\")\n"
   ]
  },
  {
   "cell_type": "code",
   "execution_count": 3,
   "metadata": {},
   "outputs": [
    {
     "output_type": "stream",
     "name": "stdout",
     "text": [
      "         Country/Region  Confirmed  Deaths  Recovered  Active  New cases  \\\n0           Afghanistan      36263    1269      25198    9796        106   \n1               Albania       4880     144       2745    1991        117   \n2               Algeria      27973    1163      18837    7973        616   \n3               Andorra        907      52        803      52         10   \n4                Angola        950      41        242     667         18   \n..                  ...        ...     ...        ...     ...        ...   \n162             Vietnam        431       0        365      66         11   \n163  West Bank and Gaza      10621      78       3752    6791        152   \n164               Yemen       1691     483        833     375         10   \n165              Zambia       4552     140       2815    1597         71   \n166            Zimbabwe       2704      36        542    2126        192   \n\n     New deaths  New recovered  Deaths / 100 Cases  Recovered / 100 Cases  \\\n0            10             18                3.50                  69.49   \n1             6             63                2.95                  56.25   \n2             8            749                4.16                  67.34   \n3             0              0                5.73                  88.53   \n4             1              0                4.32                  25.47   \n..          ...            ...                 ...                    ...   \n162           0              0                0.00                  84.69   \n163           2              0                0.73                  35.33   \n164           4             36               28.56                  49.26   \n165           1            465                3.08                  61.84   \n166           2             24                1.33                  20.04   \n\n     ...  Total_CO2_emissions  Total_income  Total_reserves  \\\n0    ...               692.50           NaN             NaN   \n1    ...              3499.12  4.790000e+09           78.14   \n2    ...            137535.56  6.970000e+10          351.36   \n3    ...                  NaN           NaN             NaN   \n4    ...              8991.46  1.490000e+10           27.13   \n..   ...                  ...           ...             ...   \n162  ...            101826.23  4.480000e+10           47.11   \n163  ...               655.86  3.780000e+09             NaN   \n164  ...             20148.34  1.150000e+10          114.52   \n165  ...              2366.94  4.090000e+09           10.41   \n166  ...             11457.33  5.620000e+09            3.39   \n\n     Trade_balance_goods_and_services Under_five_mortality_from_CME  \\\n0                                 NaN                        257.00   \n1                       -2.040000e+09                         18.47   \n2                        4.700000e+09                         40.00   \n3                                 NaN                           NaN   \n4                        9.140000e+09                        164.10   \n..                                ...                           ...   \n162                     -1.940000e+09                         20.20   \n163                               NaN                         28.00   \n164                      8.310000e+08                         82.40   \n165                     -4.470000e+08                        175.30   \n166                     -1.710000e+08                        106.50   \n\n    Under_five_mortality_from_IHME  Under_five_mortality_rate  \\\n0                            231.9                     257.00   \n1                             15.5                      18.47   \n2                             31.2                      40.00   \n3                              NaN                        NaN   \n4                            242.5                     164.10   \n..                             ...                        ...   \n162                           23.4                      20.20   \n163                           25.8                      28.00   \n164                           87.9                      82.40   \n165                          163.8                     175.30   \n166                           67.0                     106.50   \n\n     Urban_population  Urban_population_growth  Urban_population_pct_of_total  \n0           5740436.0                     5.44                           22.9  \n1           1431793.9                     2.21                           45.4  \n2          20800000.0                     2.61                           63.3  \n3                 NaN                      NaN                            NaN  \n4           8578749.0                     4.14                           53.3  \n..                ...                      ...                            ...  \n162        21900000.0                     2.90                           26.4  \n163         2596216.0                     3.33                           71.6  \n164         5759120.5                     4.37                           27.3  \n165         4017411.0                     1.95                           35.0  \n166         4709965.0                     1.90                           35.9  \n\n[167 rows x 373 columns]\n"
     ]
    }
   ],
   "source": [
    "print(merge_df)"
   ]
  }
 ]
}